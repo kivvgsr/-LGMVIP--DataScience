{
  "nbformat": 4,
  "nbformat_minor": 0,
  "metadata": {
    "colab": {
      "provenance": [],
      "gpuType": "T4",
      "authorship_tag": "ABX9TyOMRllbXnUFtfhIFL+lwct4",
      "include_colab_link": true
    },
    "kernelspec": {
      "name": "python3",
      "display_name": "Python 3"
    },
    "language_info": {
      "name": "python"
    },
    "accelerator": "GPU"
  },
  "cells": [
    {
      "cell_type": "markdown",
      "metadata": {
        "id": "view-in-github",
        "colab_type": "text"
      },
      "source": [
        "<a href=\"https://colab.research.google.com/github/kivvgsr/-LGMVIP--DataScience/blob/main/ecommers_text_classification.ipynb\" target=\"_parent\"><img src=\"https://colab.research.google.com/assets/colab-badge.svg\" alt=\"Open In Colab\"/></a>"
      ]
    },
    {
      "cell_type": "code",
      "execution_count": 25,
      "metadata": {
        "colab": {
          "base_uri": "https://localhost:8080/",
          "height": 519
        },
        "id": "nxWiKhVG4XZE",
        "outputId": "aa63ab47-3711-44e1-f17d-8dcc7c952eb5"
      },
      "outputs": [
        {
          "output_type": "stream",
          "name": "stdout",
          "text": [
            "Drive already mounted at /content/drive; to attempt to forcibly remount, call drive.mount(\"/content/drive\", force_remount=True).\n"
          ]
        },
        {
          "output_type": "execute_result",
          "data": {
            "text/plain": [
              "   Household  \\\n",
              "0  Household   \n",
              "1  Household   \n",
              "2  Household   \n",
              "3  Household   \n",
              "4  Household   \n",
              "5  Household   \n",
              "6  Household   \n",
              "7  Household   \n",
              "8  Household   \n",
              "9  Household   \n",
              "\n",
              "  Paper Plane Design Framed Wall Hanging Motivational Office Decor Art Prints (8.7 X 8.7 inch) - Set of 4 Painting made up in synthetic frame with uv textured print which gives multi effects and attracts towards it. This is an special series of paintings which makes your wall very beautiful and gives a royal touch. This painting is ready to hang, you would be proud to possess this unique painting that is a niche apart. We use only the most modern and efficient printing technology on our prints, with only the and inks and precision epson, roland and hp printers. This innovative hd printing technique results in durable and spectacular looking prints of the highest that last a lifetime. We print solely with top-notch 100% inks, to achieve brilliant and true colours. Due to their high level of uv resistance, our prints retain their beautiful colours for many years. Add colour and style to your living space with this digitally printed painting. Some are for pleasure and some for eternal bliss.so bring home this elegant print that is lushed with rich colors that makes it nothing but sheer elegance to be to your friends and family.it would be treasured forever by whoever your lucky recipient is. Liven up your place with these intriguing paintings that are high definition hd graphic digital prints for home, office or any room.  \n",
              "0  SAF 'Floral' Framed Painting (Wood, 30 inch x ...                                                                                                                                                                                                                                                                                                                                                                                                                                                                                                                                                                                                                                                                                                                                                                                                                                                                                                                                                                                                                                                                                                                                                                                                                                                                                                                                          \n",
              "1  SAF 'UV Textured Modern Art Print Framed' Pain...                                                                                                                                                                                                                                                                                                                                                                                                                                                                                                                                                                                                                                                                                                                                                                                                                                                                                                                                                                                                                                                                                                                                                                                                                                                                                                                                          \n",
              "2  SAF Flower Print Framed Painting (Synthetic, 1...                                                                                                                                                                                                                                                                                                                                                                                                                                                                                                                                                                                                                                                                                                                                                                                                                                                                                                                                                                                                                                                                                                                                                                                                                                                                                                                                          \n",
              "3  Incredible Gifts India Wooden Happy Birthday U...                                                                                                                                                                                                                                                                                                                                                                                                                                                                                                                                                                                                                                                                                                                                                                                                                                                                                                                                                                                                                                                                                                                                                                                                                                                                                                                                          \n",
              "4  Pitaara Box Romantic Venice Canvas Painting 6m...                                                                                                                                                                                                                                                                                                                                                                                                                                                                                                                                                                                                                                                                                                                                                                                                                                                                                                                                                                                                                                                                                                                                                                                                                                                                                                                                          \n",
              "5  Paper Plane Design Starry Night Vangoh Wall Ar...                                                                                                                                                                                                                                                                                                                                                                                                                                                                                                                                                                                                                                                                                                                                                                                                                                                                                                                                                                                                                                                                                                                                                                                                                                                                                                                                          \n",
              "6  Pitaara Box Romantic Venice Canvas Painting 6m...                                                                                                                                                                                                                                                                                                                                                                                                                                                                                                                                                                                                                                                                                                                                                                                                                                                                                                                                                                                                                                                                                                                                                                                                                                                                                                                                          \n",
              "7  SAF 'Ganesh Modern Art Print' Painting (Synthe...                                                                                                                                                                                                                                                                                                                                                                                                                                                                                                                                                                                                                                                                                                                                                                                                                                                                                                                                                                                                                                                                                                                                                                                                                                                                                                                                          \n",
              "8  Paintings Villa UV Textured Modern Art Print F...                                                                                                                                                                                                                                                                                                                                                                                                                                                                                                                                                                                                                                                                                                                                                                                                                                                                                                                                                                                                                                                                                                                                                                                                                                                                                                                                          \n",
              "9  Painting Mantra Art Street - Jardin Bird Frame...                                                                                                                                                                                                                                                                                                                                                                                                                                                                                                                                                                                                                                                                                                                                                                                                                                                                                                                                                                                                                                                                                                                                                                                                                                                                                                                                          "
            ],
            "text/html": [
              "\n",
              "  <div id=\"df-145f6aa2-90b6-418d-8177-1a95b1bd3126\" class=\"colab-df-container\">\n",
              "    <div>\n",
              "<style scoped>\n",
              "    .dataframe tbody tr th:only-of-type {\n",
              "        vertical-align: middle;\n",
              "    }\n",
              "\n",
              "    .dataframe tbody tr th {\n",
              "        vertical-align: top;\n",
              "    }\n",
              "\n",
              "    .dataframe thead th {\n",
              "        text-align: right;\n",
              "    }\n",
              "</style>\n",
              "<table border=\"1\" class=\"dataframe\">\n",
              "  <thead>\n",
              "    <tr style=\"text-align: right;\">\n",
              "      <th></th>\n",
              "      <th>Household</th>\n",
              "      <th>Paper Plane Design Framed Wall Hanging Motivational Office Decor Art Prints (8.7 X 8.7 inch) - Set of 4 Painting made up in synthetic frame with uv textured print which gives multi effects and attracts towards it. This is an special series of paintings which makes your wall very beautiful and gives a royal touch. This painting is ready to hang, you would be proud to possess this unique painting that is a niche apart. We use only the most modern and efficient printing technology on our prints, with only the and inks and precision epson, roland and hp printers. This innovative hd printing technique results in durable and spectacular looking prints of the highest that last a lifetime. We print solely with top-notch 100% inks, to achieve brilliant and true colours. Due to their high level of uv resistance, our prints retain their beautiful colours for many years. Add colour and style to your living space with this digitally printed painting. Some are for pleasure and some for eternal bliss.so bring home this elegant print that is lushed with rich colors that makes it nothing but sheer elegance to be to your friends and family.it would be treasured forever by whoever your lucky recipient is. Liven up your place with these intriguing paintings that are high definition hd graphic digital prints for home, office or any room.</th>\n",
              "    </tr>\n",
              "  </thead>\n",
              "  <tbody>\n",
              "    <tr>\n",
              "      <th>0</th>\n",
              "      <td>Household</td>\n",
              "      <td>SAF 'Floral' Framed Painting (Wood, 30 inch x ...</td>\n",
              "    </tr>\n",
              "    <tr>\n",
              "      <th>1</th>\n",
              "      <td>Household</td>\n",
              "      <td>SAF 'UV Textured Modern Art Print Framed' Pain...</td>\n",
              "    </tr>\n",
              "    <tr>\n",
              "      <th>2</th>\n",
              "      <td>Household</td>\n",
              "      <td>SAF Flower Print Framed Painting (Synthetic, 1...</td>\n",
              "    </tr>\n",
              "    <tr>\n",
              "      <th>3</th>\n",
              "      <td>Household</td>\n",
              "      <td>Incredible Gifts India Wooden Happy Birthday U...</td>\n",
              "    </tr>\n",
              "    <tr>\n",
              "      <th>4</th>\n",
              "      <td>Household</td>\n",
              "      <td>Pitaara Box Romantic Venice Canvas Painting 6m...</td>\n",
              "    </tr>\n",
              "    <tr>\n",
              "      <th>5</th>\n",
              "      <td>Household</td>\n",
              "      <td>Paper Plane Design Starry Night Vangoh Wall Ar...</td>\n",
              "    </tr>\n",
              "    <tr>\n",
              "      <th>6</th>\n",
              "      <td>Household</td>\n",
              "      <td>Pitaara Box Romantic Venice Canvas Painting 6m...</td>\n",
              "    </tr>\n",
              "    <tr>\n",
              "      <th>7</th>\n",
              "      <td>Household</td>\n",
              "      <td>SAF 'Ganesh Modern Art Print' Painting (Synthe...</td>\n",
              "    </tr>\n",
              "    <tr>\n",
              "      <th>8</th>\n",
              "      <td>Household</td>\n",
              "      <td>Paintings Villa UV Textured Modern Art Print F...</td>\n",
              "    </tr>\n",
              "    <tr>\n",
              "      <th>9</th>\n",
              "      <td>Household</td>\n",
              "      <td>Painting Mantra Art Street - Jardin Bird Frame...</td>\n",
              "    </tr>\n",
              "  </tbody>\n",
              "</table>\n",
              "</div>\n",
              "    <div class=\"colab-df-buttons\">\n",
              "\n",
              "  <div class=\"colab-df-container\">\n",
              "    <button class=\"colab-df-convert\" onclick=\"convertToInteractive('df-145f6aa2-90b6-418d-8177-1a95b1bd3126')\"\n",
              "            title=\"Convert this dataframe to an interactive table.\"\n",
              "            style=\"display:none;\">\n",
              "\n",
              "  <svg xmlns=\"http://www.w3.org/2000/svg\" height=\"24px\" viewBox=\"0 -960 960 960\">\n",
              "    <path d=\"M120-120v-720h720v720H120Zm60-500h600v-160H180v160Zm220 220h160v-160H400v160Zm0 220h160v-160H400v160ZM180-400h160v-160H180v160Zm440 0h160v-160H620v160ZM180-180h160v-160H180v160Zm440 0h160v-160H620v160Z\"/>\n",
              "  </svg>\n",
              "    </button>\n",
              "\n",
              "  <style>\n",
              "    .colab-df-container {\n",
              "      display:flex;\n",
              "      gap: 12px;\n",
              "    }\n",
              "\n",
              "    .colab-df-convert {\n",
              "      background-color: #E8F0FE;\n",
              "      border: none;\n",
              "      border-radius: 50%;\n",
              "      cursor: pointer;\n",
              "      display: none;\n",
              "      fill: #1967D2;\n",
              "      height: 32px;\n",
              "      padding: 0 0 0 0;\n",
              "      width: 32px;\n",
              "    }\n",
              "\n",
              "    .colab-df-convert:hover {\n",
              "      background-color: #E2EBFA;\n",
              "      box-shadow: 0px 1px 2px rgba(60, 64, 67, 0.3), 0px 1px 3px 1px rgba(60, 64, 67, 0.15);\n",
              "      fill: #174EA6;\n",
              "    }\n",
              "\n",
              "    .colab-df-buttons div {\n",
              "      margin-bottom: 4px;\n",
              "    }\n",
              "\n",
              "    [theme=dark] .colab-df-convert {\n",
              "      background-color: #3B4455;\n",
              "      fill: #D2E3FC;\n",
              "    }\n",
              "\n",
              "    [theme=dark] .colab-df-convert:hover {\n",
              "      background-color: #434B5C;\n",
              "      box-shadow: 0px 1px 3px 1px rgba(0, 0, 0, 0.15);\n",
              "      filter: drop-shadow(0px 1px 2px rgba(0, 0, 0, 0.3));\n",
              "      fill: #FFFFFF;\n",
              "    }\n",
              "  </style>\n",
              "\n",
              "    <script>\n",
              "      const buttonEl =\n",
              "        document.querySelector('#df-145f6aa2-90b6-418d-8177-1a95b1bd3126 button.colab-df-convert');\n",
              "      buttonEl.style.display =\n",
              "        google.colab.kernel.accessAllowed ? 'block' : 'none';\n",
              "\n",
              "      async function convertToInteractive(key) {\n",
              "        const element = document.querySelector('#df-145f6aa2-90b6-418d-8177-1a95b1bd3126');\n",
              "        const dataTable =\n",
              "          await google.colab.kernel.invokeFunction('convertToInteractive',\n",
              "                                                    [key], {});\n",
              "        if (!dataTable) return;\n",
              "\n",
              "        const docLinkHtml = 'Like what you see? Visit the ' +\n",
              "          '<a target=\"_blank\" href=https://colab.research.google.com/notebooks/data_table.ipynb>data table notebook</a>'\n",
              "          + ' to learn more about interactive tables.';\n",
              "        element.innerHTML = '';\n",
              "        dataTable['output_type'] = 'display_data';\n",
              "        await google.colab.output.renderOutput(dataTable, element);\n",
              "        const docLink = document.createElement('div');\n",
              "        docLink.innerHTML = docLinkHtml;\n",
              "        element.appendChild(docLink);\n",
              "      }\n",
              "    </script>\n",
              "  </div>\n",
              "\n",
              "\n",
              "<div id=\"df-25ffd4ca-f990-465a-8686-516733d85e1c\">\n",
              "  <button class=\"colab-df-quickchart\" onclick=\"quickchart('df-25ffd4ca-f990-465a-8686-516733d85e1c')\"\n",
              "            title=\"Suggest charts\"\n",
              "            style=\"display:none;\">\n",
              "\n",
              "<svg xmlns=\"http://www.w3.org/2000/svg\" height=\"24px\"viewBox=\"0 0 24 24\"\n",
              "     width=\"24px\">\n",
              "    <g>\n",
              "        <path d=\"M19 3H5c-1.1 0-2 .9-2 2v14c0 1.1.9 2 2 2h14c1.1 0 2-.9 2-2V5c0-1.1-.9-2-2-2zM9 17H7v-7h2v7zm4 0h-2V7h2v10zm4 0h-2v-4h2v4z\"/>\n",
              "    </g>\n",
              "</svg>\n",
              "  </button>\n",
              "\n",
              "<style>\n",
              "  .colab-df-quickchart {\n",
              "      --bg-color: #E8F0FE;\n",
              "      --fill-color: #1967D2;\n",
              "      --hover-bg-color: #E2EBFA;\n",
              "      --hover-fill-color: #174EA6;\n",
              "      --disabled-fill-color: #AAA;\n",
              "      --disabled-bg-color: #DDD;\n",
              "  }\n",
              "\n",
              "  [theme=dark] .colab-df-quickchart {\n",
              "      --bg-color: #3B4455;\n",
              "      --fill-color: #D2E3FC;\n",
              "      --hover-bg-color: #434B5C;\n",
              "      --hover-fill-color: #FFFFFF;\n",
              "      --disabled-bg-color: #3B4455;\n",
              "      --disabled-fill-color: #666;\n",
              "  }\n",
              "\n",
              "  .colab-df-quickchart {\n",
              "    background-color: var(--bg-color);\n",
              "    border: none;\n",
              "    border-radius: 50%;\n",
              "    cursor: pointer;\n",
              "    display: none;\n",
              "    fill: var(--fill-color);\n",
              "    height: 32px;\n",
              "    padding: 0;\n",
              "    width: 32px;\n",
              "  }\n",
              "\n",
              "  .colab-df-quickchart:hover {\n",
              "    background-color: var(--hover-bg-color);\n",
              "    box-shadow: 0 1px 2px rgba(60, 64, 67, 0.3), 0 1px 3px 1px rgba(60, 64, 67, 0.15);\n",
              "    fill: var(--button-hover-fill-color);\n",
              "  }\n",
              "\n",
              "  .colab-df-quickchart-complete:disabled,\n",
              "  .colab-df-quickchart-complete:disabled:hover {\n",
              "    background-color: var(--disabled-bg-color);\n",
              "    fill: var(--disabled-fill-color);\n",
              "    box-shadow: none;\n",
              "  }\n",
              "\n",
              "  .colab-df-spinner {\n",
              "    border: 2px solid var(--fill-color);\n",
              "    border-color: transparent;\n",
              "    border-bottom-color: var(--fill-color);\n",
              "    animation:\n",
              "      spin 1s steps(1) infinite;\n",
              "  }\n",
              "\n",
              "  @keyframes spin {\n",
              "    0% {\n",
              "      border-color: transparent;\n",
              "      border-bottom-color: var(--fill-color);\n",
              "      border-left-color: var(--fill-color);\n",
              "    }\n",
              "    20% {\n",
              "      border-color: transparent;\n",
              "      border-left-color: var(--fill-color);\n",
              "      border-top-color: var(--fill-color);\n",
              "    }\n",
              "    30% {\n",
              "      border-color: transparent;\n",
              "      border-left-color: var(--fill-color);\n",
              "      border-top-color: var(--fill-color);\n",
              "      border-right-color: var(--fill-color);\n",
              "    }\n",
              "    40% {\n",
              "      border-color: transparent;\n",
              "      border-right-color: var(--fill-color);\n",
              "      border-top-color: var(--fill-color);\n",
              "    }\n",
              "    60% {\n",
              "      border-color: transparent;\n",
              "      border-right-color: var(--fill-color);\n",
              "    }\n",
              "    80% {\n",
              "      border-color: transparent;\n",
              "      border-right-color: var(--fill-color);\n",
              "      border-bottom-color: var(--fill-color);\n",
              "    }\n",
              "    90% {\n",
              "      border-color: transparent;\n",
              "      border-bottom-color: var(--fill-color);\n",
              "    }\n",
              "  }\n",
              "</style>\n",
              "\n",
              "  <script>\n",
              "    async function quickchart(key) {\n",
              "      const quickchartButtonEl =\n",
              "        document.querySelector('#' + key + ' button');\n",
              "      quickchartButtonEl.disabled = true;  // To prevent multiple clicks.\n",
              "      quickchartButtonEl.classList.add('colab-df-spinner');\n",
              "      try {\n",
              "        const charts = await google.colab.kernel.invokeFunction(\n",
              "            'suggestCharts', [key], {});\n",
              "      } catch (error) {\n",
              "        console.error('Error during call to suggestCharts:', error);\n",
              "      }\n",
              "      quickchartButtonEl.classList.remove('colab-df-spinner');\n",
              "      quickchartButtonEl.classList.add('colab-df-quickchart-complete');\n",
              "    }\n",
              "    (() => {\n",
              "      let quickchartButtonEl =\n",
              "        document.querySelector('#df-25ffd4ca-f990-465a-8686-516733d85e1c button');\n",
              "      quickchartButtonEl.style.display =\n",
              "        google.colab.kernel.accessAllowed ? 'block' : 'none';\n",
              "    })();\n",
              "  </script>\n",
              "</div>\n",
              "\n",
              "    </div>\n",
              "  </div>\n"
            ],
            "application/vnd.google.colaboratory.intrinsic+json": {
              "type": "dataframe",
              "variable_name": "df",
              "summary": "{\n  \"name\": \"df\",\n  \"rows\": 50424,\n  \"fields\": [\n    {\n      \"column\": \"Household\",\n      \"properties\": {\n        \"dtype\": \"category\",\n        \"num_unique_values\": 4,\n        \"samples\": [\n          \"Books\",\n          \"Electronics\",\n          \"Household\"\n        ],\n        \"semantic_type\": \"\",\n        \"description\": \"\"\n      }\n    },\n    {\n      \"column\": \"Paper Plane Design Framed Wall Hanging Motivational Office Decor Art Prints (8.7 X 8.7 inch) - Set of 4 Painting made up in synthetic frame with uv textured print which gives multi effects and attracts towards it. This is an special series of paintings which makes your wall very beautiful and gives a royal touch. This painting is ready to hang, you would be proud to possess this unique painting that is a niche apart. We use only the most modern and efficient printing technology on our prints, with only the and inks and precision epson, roland and hp printers. This innovative hd printing technique results in durable and spectacular looking prints of the highest that last a lifetime. We print solely with top-notch 100% inks, to achieve brilliant and true colours. Due to their high level of uv resistance, our prints retain their beautiful colours for many years. Add colour and style to your living space with this digitally printed painting. Some are for pleasure and some for eternal bliss.so bring home this elegant print that is lushed with rich colors that makes it nothing but sheer elegance to be to your friends and family.it would be treasured forever by whoever your lucky recipient is. Liven up your place with these intriguing paintings that are high definition hd graphic digital prints for home, office or any room.\",\n      \"properties\": {\n        \"dtype\": \"string\",\n        \"num_unique_values\": 27801,\n        \"samples\": [\n          \"AV2 Women Cotton Maternity/Feeding/Nursing Nightwear Set Relax at ease wearing this soft and comfortable maternity feeding nightwear set from AV2. It's surely going to be your favourite nightsuit. This capri length solid nightwear set comprises of tshirt with graphic print, short sleeve along with discreet zipper for nursing use, while capri is elasticated with drawstring and a side pocket, This top and capri ni can be worn for casual lounge wear as well as regular maternity wear.\",\n          \"Kitchen Utensil Kitchenware Curd Maker/Free Hand Blender for Egg & Cream Beater, Milkshake, Lassi, Butter Milk Mixer BeaterK Power Free Hand Blender Beating (Cream,Eggs,etc),Liquidizing(Tomato Soup, Dal etc),Churring(Milk Shake,Lassi Butter Milk etc.) Smoothly rotating gears are enclosed for protection and easy clean-up Non-slip grips on turning knob and contoured handle Non electrical, Handy and easy to operate Sturdy stainless steel Beaters can be removed easily for cleaning Beaters are elevated and continue to work while device rests on bottom of bowl Perfect for eggs, light batters, whipped cream\",\n          \"BEESCLOVER Mini Portable Handheld Lint Clothes Sweater Shaver Remover Dust Lint Remover for Fluff Fuzz Fabrics Black Manually Color Name:black   Description: Item type: Lint Remover Specification: Manual Dust Lint Remover Color: white, black Features -- Practical and reusable -- Easy to operate -- Easy operation Material: ABS Package includes: 1 x Dust Lint Remover Notes: 1-2mm error might exist due to manual measurements, please kindly understand. The colors deviation might differ due to different monitor settings.\"\n        ],\n        \"semantic_type\": \"\",\n        \"description\": \"\"\n      }\n    }\n  ]\n}"
            }
          },
          "metadata": {},
          "execution_count": 25
        }
      ],
      "source": [
        "from google.colab import drive\n",
        "drive.mount('/content/drive')\n",
        "import pandas as pd\n",
        "\n",
        "file_path = \"/content/drive/MyDrive/ecommerceDataset.csv\"\n",
        "df = pd.read_csv(file_path)\n",
        "\n",
        "df.head(10)"
      ]
    },
    {
      "cell_type": "markdown",
      "source": [
        "#there is no column names so we will add them"
      ],
      "metadata": {
        "id": "rTv-50bcT7ZS"
      }
    },
    {
      "cell_type": "code",
      "source": [
        "column_names = ['label','Text']\n",
        "\n",
        "# Assign the column names to the DataFrame\n",
        "df.columns = column_names\n",
        "\n",
        "# Save it back to CSV (if needed)\n",
        "df.to_csv('data_with_headers.csv', index=False)\n",
        "print(df)"
      ],
      "metadata": {
        "colab": {
          "base_uri": "https://localhost:8080/"
        },
        "id": "T9hm2qET5rx3",
        "outputId": "a78988d2-11d3-4687-f910-f44c1cfd2595"
      },
      "execution_count": 26,
      "outputs": [
        {
          "output_type": "stream",
          "name": "stdout",
          "text": [
            "             label                                               Text\n",
            "0        Household  SAF 'Floral' Framed Painting (Wood, 30 inch x ...\n",
            "1        Household  SAF 'UV Textured Modern Art Print Framed' Pain...\n",
            "2        Household  SAF Flower Print Framed Painting (Synthetic, 1...\n",
            "3        Household  Incredible Gifts India Wooden Happy Birthday U...\n",
            "4        Household  Pitaara Box Romantic Venice Canvas Painting 6m...\n",
            "...            ...                                                ...\n",
            "50419  Electronics  Strontium MicroSD Class 10 8GB Memory Card (Bl...\n",
            "50420  Electronics  CrossBeats Wave Waterproof Bluetooth Wireless ...\n",
            "50421  Electronics  Karbonn Titanium Wind W4 (White) Karbonn Titan...\n",
            "50422  Electronics  Samsung Guru FM Plus (SM-B110E/D, Black) Colou...\n",
            "50423  Electronics                   Micromax Canvas Win W121 (White)\n",
            "\n",
            "[50424 rows x 2 columns]\n"
          ]
        }
      ]
    },
    {
      "cell_type": "markdown",
      "source": [
        "#check if there are any null values and delete them."
      ],
      "metadata": {
        "id": "6CmkuX9_T_db"
      }
    },
    {
      "cell_type": "code",
      "source": [
        "# Check for NaN values in each column\n",
        "nan_count = df.isna().sum()\n",
        "print(nan_count)\n"
      ],
      "metadata": {
        "colab": {
          "base_uri": "https://localhost:8080/"
        },
        "id": "YCymollbNozQ",
        "outputId": "943c999d-5efd-4643-a9cc-2f903a8abd93"
      },
      "execution_count": 27,
      "outputs": [
        {
          "output_type": "stream",
          "name": "stdout",
          "text": [
            "label    0\n",
            "Text     1\n",
            "dtype: int64\n"
          ]
        }
      ]
    },
    {
      "cell_type": "code",
      "source": [
        "df1 = df.dropna()"
      ],
      "metadata": {
        "id": "_i-MaEXbN-0o"
      },
      "execution_count": 28,
      "outputs": []
    },
    {
      "cell_type": "code",
      "source": [
        "print(df1.isna().sum())"
      ],
      "metadata": {
        "colab": {
          "base_uri": "https://localhost:8080/"
        },
        "id": "uJcKOh96OFSW",
        "outputId": "8dd573f2-e63b-4a79-c453-1d6777d1339c"
      },
      "execution_count": 29,
      "outputs": [
        {
          "output_type": "stream",
          "name": "stdout",
          "text": [
            "label    0\n",
            "Text     0\n",
            "dtype: int64\n"
          ]
        }
      ]
    },
    {
      "cell_type": "markdown",
      "source": [
        "#checking whether the datase is balanced or not"
      ],
      "metadata": {
        "id": "a8uhHU22UEj3"
      }
    },
    {
      "cell_type": "code",
      "source": [
        "df1['label'].value_counts()"
      ],
      "metadata": {
        "colab": {
          "base_uri": "https://localhost:8080/",
          "height": 241
        },
        "id": "IDmD_5mv8Lf1",
        "outputId": "801124d5-ea01-4ef6-89a0-a140f89be8e6"
      },
      "execution_count": 30,
      "outputs": [
        {
          "output_type": "execute_result",
          "data": {
            "text/plain": [
              "label\n",
              "Household                 19312\n",
              "Books                     11820\n",
              "Electronics               10621\n",
              "Clothing & Accessories     8670\n",
              "Name: count, dtype: int64"
            ],
            "text/html": [
              "<div>\n",
              "<style scoped>\n",
              "    .dataframe tbody tr th:only-of-type {\n",
              "        vertical-align: middle;\n",
              "    }\n",
              "\n",
              "    .dataframe tbody tr th {\n",
              "        vertical-align: top;\n",
              "    }\n",
              "\n",
              "    .dataframe thead th {\n",
              "        text-align: right;\n",
              "    }\n",
              "</style>\n",
              "<table border=\"1\" class=\"dataframe\">\n",
              "  <thead>\n",
              "    <tr style=\"text-align: right;\">\n",
              "      <th></th>\n",
              "      <th>count</th>\n",
              "    </tr>\n",
              "    <tr>\n",
              "      <th>label</th>\n",
              "      <th></th>\n",
              "    </tr>\n",
              "  </thead>\n",
              "  <tbody>\n",
              "    <tr>\n",
              "      <th>Household</th>\n",
              "      <td>19312</td>\n",
              "    </tr>\n",
              "    <tr>\n",
              "      <th>Books</th>\n",
              "      <td>11820</td>\n",
              "    </tr>\n",
              "    <tr>\n",
              "      <th>Electronics</th>\n",
              "      <td>10621</td>\n",
              "    </tr>\n",
              "    <tr>\n",
              "      <th>Clothing &amp; Accessories</th>\n",
              "      <td>8670</td>\n",
              "    </tr>\n",
              "  </tbody>\n",
              "</table>\n",
              "</div><br><label><b>dtype:</b> int64</label>"
            ]
          },
          "metadata": {},
          "execution_count": 30
        }
      ]
    },
    {
      "cell_type": "code",
      "source": [
        "df1['label'].value_counts()"
      ],
      "metadata": {
        "colab": {
          "base_uri": "https://localhost:8080/",
          "height": 241
        },
        "id": "HeOCoq6JOwn0",
        "outputId": "b5bc3599-ea31-4d7b-8430-dff8e104a923"
      },
      "execution_count": 32,
      "outputs": [
        {
          "output_type": "execute_result",
          "data": {
            "text/plain": [
              "label\n",
              "Household                 19312\n",
              "Books                     11820\n",
              "Electronics               10621\n",
              "Clothing & Accessories     8670\n",
              "Name: count, dtype: int64"
            ],
            "text/html": [
              "<div>\n",
              "<style scoped>\n",
              "    .dataframe tbody tr th:only-of-type {\n",
              "        vertical-align: middle;\n",
              "    }\n",
              "\n",
              "    .dataframe tbody tr th {\n",
              "        vertical-align: top;\n",
              "    }\n",
              "\n",
              "    .dataframe thead th {\n",
              "        text-align: right;\n",
              "    }\n",
              "</style>\n",
              "<table border=\"1\" class=\"dataframe\">\n",
              "  <thead>\n",
              "    <tr style=\"text-align: right;\">\n",
              "      <th></th>\n",
              "      <th>count</th>\n",
              "    </tr>\n",
              "    <tr>\n",
              "      <th>label</th>\n",
              "      <th></th>\n",
              "    </tr>\n",
              "  </thead>\n",
              "  <tbody>\n",
              "    <tr>\n",
              "      <th>Household</th>\n",
              "      <td>19312</td>\n",
              "    </tr>\n",
              "    <tr>\n",
              "      <th>Books</th>\n",
              "      <td>11820</td>\n",
              "    </tr>\n",
              "    <tr>\n",
              "      <th>Electronics</th>\n",
              "      <td>10621</td>\n",
              "    </tr>\n",
              "    <tr>\n",
              "      <th>Clothing &amp; Accessories</th>\n",
              "      <td>8670</td>\n",
              "    </tr>\n",
              "  </tbody>\n",
              "</table>\n",
              "</div><br><label><b>dtype:</b> int64</label>"
            ]
          },
          "metadata": {},
          "execution_count": 32
        }
      ]
    },
    {
      "cell_type": "markdown",
      "source": [
        "#we are balancing the data"
      ],
      "metadata": {
        "id": "-zHfizpGUJMz"
      }
    },
    {
      "cell_type": "code",
      "source": [
        "min_sample= 8670\n",
        "df_household = df1[df1.label == 'Household'].sample(min_sample,random_state=2022)\n",
        "df_books = df1[df1.label == 'Books'].sample(min_sample,random_state=2022)\n",
        "df_electronics = df1[df1.label == 'Electronics'].sample(min_sample,random_state=2022)\n",
        "df_clothing_accessories = df1[df1.label == 'Clothing & Accessories'].sample(min_sample,random_state=2022)\n",
        "#"
      ],
      "metadata": {
        "id": "n1repMzGD4BJ"
      },
      "execution_count": 33,
      "outputs": []
    },
    {
      "cell_type": "code",
      "source": [
        "df_balanced = pd.concat([df_household,df_books,df_electronics,df_clothing_accessories],axis=0)\n",
        "df_balanced.label.value_counts()"
      ],
      "metadata": {
        "colab": {
          "base_uri": "https://localhost:8080/",
          "height": 241
        },
        "id": "W3tGm7EbESyB",
        "outputId": "90d5e27b-10a9-422f-fe67-f350fd34cb2f"
      },
      "execution_count": 34,
      "outputs": [
        {
          "output_type": "execute_result",
          "data": {
            "text/plain": [
              "label\n",
              "Household                 8670\n",
              "Books                     8670\n",
              "Electronics               8670\n",
              "Clothing & Accessories    8670\n",
              "Name: count, dtype: int64"
            ],
            "text/html": [
              "<div>\n",
              "<style scoped>\n",
              "    .dataframe tbody tr th:only-of-type {\n",
              "        vertical-align: middle;\n",
              "    }\n",
              "\n",
              "    .dataframe tbody tr th {\n",
              "        vertical-align: top;\n",
              "    }\n",
              "\n",
              "    .dataframe thead th {\n",
              "        text-align: right;\n",
              "    }\n",
              "</style>\n",
              "<table border=\"1\" class=\"dataframe\">\n",
              "  <thead>\n",
              "    <tr style=\"text-align: right;\">\n",
              "      <th></th>\n",
              "      <th>count</th>\n",
              "    </tr>\n",
              "    <tr>\n",
              "      <th>label</th>\n",
              "      <th></th>\n",
              "    </tr>\n",
              "  </thead>\n",
              "  <tbody>\n",
              "    <tr>\n",
              "      <th>Household</th>\n",
              "      <td>8670</td>\n",
              "    </tr>\n",
              "    <tr>\n",
              "      <th>Books</th>\n",
              "      <td>8670</td>\n",
              "    </tr>\n",
              "    <tr>\n",
              "      <th>Electronics</th>\n",
              "      <td>8670</td>\n",
              "    </tr>\n",
              "    <tr>\n",
              "      <th>Clothing &amp; Accessories</th>\n",
              "      <td>8670</td>\n",
              "    </tr>\n",
              "  </tbody>\n",
              "</table>\n",
              "</div><br><label><b>dtype:</b> int64</label>"
            ]
          },
          "metadata": {},
          "execution_count": 34
        }
      ]
    },
    {
      "cell_type": "markdown",
      "source": [
        "#mapping the labels with numbers"
      ],
      "metadata": {
        "id": "t_37tgdpUNki"
      }
    },
    {
      "cell_type": "code",
      "source": [
        "df_balanced['label_num'] = df_balanced['label'].map(\n",
        "    {\n",
        "        'Household' : 0,\n",
        "        'Books' : 1,\n",
        "        'Electronics' : 2,\n",
        "        'Clothing & Accessories' : 3\n",
        "    }\n",
        ")"
      ],
      "metadata": {
        "id": "gksFrRUC8VSQ"
      },
      "execution_count": 35,
      "outputs": []
    },
    {
      "cell_type": "code",
      "source": [
        "df_balanced.head(5)"
      ],
      "metadata": {
        "colab": {
          "base_uri": "https://localhost:8080/",
          "height": 206
        },
        "id": "034RDYee9EQN",
        "outputId": "6dc028c8-d05b-4070-c7a3-6afaf2ecb847"
      },
      "execution_count": 36,
      "outputs": [
        {
          "output_type": "execute_result",
          "data": {
            "text/plain": [
              "           label                                               Text  label_num\n",
              "14608  Household  Whirlpool 1.5 Ton 3 Star Inverter Split AC (Al...          0\n",
              "16167  Household  Lloyd 1.5 Ton 3 Star Window AC (LW19A3N, White...          0\n",
              "5586   Household  Amazon Brand - Solimo 100% Cotton 6 Piece Towe...          0\n",
              "10560  Household  KCL Stainless Steel Collander 12 Inches / Vege...          0\n",
              "18349  Household  looms & weaves Cotton Blend Bath Towels (White...          0"
            ],
            "text/html": [
              "\n",
              "  <div id=\"df-30d8c0a2-d674-45a6-8768-d7ae5d5b9866\" class=\"colab-df-container\">\n",
              "    <div>\n",
              "<style scoped>\n",
              "    .dataframe tbody tr th:only-of-type {\n",
              "        vertical-align: middle;\n",
              "    }\n",
              "\n",
              "    .dataframe tbody tr th {\n",
              "        vertical-align: top;\n",
              "    }\n",
              "\n",
              "    .dataframe thead th {\n",
              "        text-align: right;\n",
              "    }\n",
              "</style>\n",
              "<table border=\"1\" class=\"dataframe\">\n",
              "  <thead>\n",
              "    <tr style=\"text-align: right;\">\n",
              "      <th></th>\n",
              "      <th>label</th>\n",
              "      <th>Text</th>\n",
              "      <th>label_num</th>\n",
              "    </tr>\n",
              "  </thead>\n",
              "  <tbody>\n",
              "    <tr>\n",
              "      <th>14608</th>\n",
              "      <td>Household</td>\n",
              "      <td>Whirlpool 1.5 Ton 3 Star Inverter Split AC (Al...</td>\n",
              "      <td>0</td>\n",
              "    </tr>\n",
              "    <tr>\n",
              "      <th>16167</th>\n",
              "      <td>Household</td>\n",
              "      <td>Lloyd 1.5 Ton 3 Star Window AC (LW19A3N, White...</td>\n",
              "      <td>0</td>\n",
              "    </tr>\n",
              "    <tr>\n",
              "      <th>5586</th>\n",
              "      <td>Household</td>\n",
              "      <td>Amazon Brand - Solimo 100% Cotton 6 Piece Towe...</td>\n",
              "      <td>0</td>\n",
              "    </tr>\n",
              "    <tr>\n",
              "      <th>10560</th>\n",
              "      <td>Household</td>\n",
              "      <td>KCL Stainless Steel Collander 12 Inches / Vege...</td>\n",
              "      <td>0</td>\n",
              "    </tr>\n",
              "    <tr>\n",
              "      <th>18349</th>\n",
              "      <td>Household</td>\n",
              "      <td>looms &amp; weaves Cotton Blend Bath Towels (White...</td>\n",
              "      <td>0</td>\n",
              "    </tr>\n",
              "  </tbody>\n",
              "</table>\n",
              "</div>\n",
              "    <div class=\"colab-df-buttons\">\n",
              "\n",
              "  <div class=\"colab-df-container\">\n",
              "    <button class=\"colab-df-convert\" onclick=\"convertToInteractive('df-30d8c0a2-d674-45a6-8768-d7ae5d5b9866')\"\n",
              "            title=\"Convert this dataframe to an interactive table.\"\n",
              "            style=\"display:none;\">\n",
              "\n",
              "  <svg xmlns=\"http://www.w3.org/2000/svg\" height=\"24px\" viewBox=\"0 -960 960 960\">\n",
              "    <path d=\"M120-120v-720h720v720H120Zm60-500h600v-160H180v160Zm220 220h160v-160H400v160Zm0 220h160v-160H400v160ZM180-400h160v-160H180v160Zm440 0h160v-160H620v160ZM180-180h160v-160H180v160Zm440 0h160v-160H620v160Z\"/>\n",
              "  </svg>\n",
              "    </button>\n",
              "\n",
              "  <style>\n",
              "    .colab-df-container {\n",
              "      display:flex;\n",
              "      gap: 12px;\n",
              "    }\n",
              "\n",
              "    .colab-df-convert {\n",
              "      background-color: #E8F0FE;\n",
              "      border: none;\n",
              "      border-radius: 50%;\n",
              "      cursor: pointer;\n",
              "      display: none;\n",
              "      fill: #1967D2;\n",
              "      height: 32px;\n",
              "      padding: 0 0 0 0;\n",
              "      width: 32px;\n",
              "    }\n",
              "\n",
              "    .colab-df-convert:hover {\n",
              "      background-color: #E2EBFA;\n",
              "      box-shadow: 0px 1px 2px rgba(60, 64, 67, 0.3), 0px 1px 3px 1px rgba(60, 64, 67, 0.15);\n",
              "      fill: #174EA6;\n",
              "    }\n",
              "\n",
              "    .colab-df-buttons div {\n",
              "      margin-bottom: 4px;\n",
              "    }\n",
              "\n",
              "    [theme=dark] .colab-df-convert {\n",
              "      background-color: #3B4455;\n",
              "      fill: #D2E3FC;\n",
              "    }\n",
              "\n",
              "    [theme=dark] .colab-df-convert:hover {\n",
              "      background-color: #434B5C;\n",
              "      box-shadow: 0px 1px 3px 1px rgba(0, 0, 0, 0.15);\n",
              "      filter: drop-shadow(0px 1px 2px rgba(0, 0, 0, 0.3));\n",
              "      fill: #FFFFFF;\n",
              "    }\n",
              "  </style>\n",
              "\n",
              "    <script>\n",
              "      const buttonEl =\n",
              "        document.querySelector('#df-30d8c0a2-d674-45a6-8768-d7ae5d5b9866 button.colab-df-convert');\n",
              "      buttonEl.style.display =\n",
              "        google.colab.kernel.accessAllowed ? 'block' : 'none';\n",
              "\n",
              "      async function convertToInteractive(key) {\n",
              "        const element = document.querySelector('#df-30d8c0a2-d674-45a6-8768-d7ae5d5b9866');\n",
              "        const dataTable =\n",
              "          await google.colab.kernel.invokeFunction('convertToInteractive',\n",
              "                                                    [key], {});\n",
              "        if (!dataTable) return;\n",
              "\n",
              "        const docLinkHtml = 'Like what you see? Visit the ' +\n",
              "          '<a target=\"_blank\" href=https://colab.research.google.com/notebooks/data_table.ipynb>data table notebook</a>'\n",
              "          + ' to learn more about interactive tables.';\n",
              "        element.innerHTML = '';\n",
              "        dataTable['output_type'] = 'display_data';\n",
              "        await google.colab.output.renderOutput(dataTable, element);\n",
              "        const docLink = document.createElement('div');\n",
              "        docLink.innerHTML = docLinkHtml;\n",
              "        element.appendChild(docLink);\n",
              "      }\n",
              "    </script>\n",
              "  </div>\n",
              "\n",
              "\n",
              "<div id=\"df-399d2572-1208-47de-a9ba-2292980779ab\">\n",
              "  <button class=\"colab-df-quickchart\" onclick=\"quickchart('df-399d2572-1208-47de-a9ba-2292980779ab')\"\n",
              "            title=\"Suggest charts\"\n",
              "            style=\"display:none;\">\n",
              "\n",
              "<svg xmlns=\"http://www.w3.org/2000/svg\" height=\"24px\"viewBox=\"0 0 24 24\"\n",
              "     width=\"24px\">\n",
              "    <g>\n",
              "        <path d=\"M19 3H5c-1.1 0-2 .9-2 2v14c0 1.1.9 2 2 2h14c1.1 0 2-.9 2-2V5c0-1.1-.9-2-2-2zM9 17H7v-7h2v7zm4 0h-2V7h2v10zm4 0h-2v-4h2v4z\"/>\n",
              "    </g>\n",
              "</svg>\n",
              "  </button>\n",
              "\n",
              "<style>\n",
              "  .colab-df-quickchart {\n",
              "      --bg-color: #E8F0FE;\n",
              "      --fill-color: #1967D2;\n",
              "      --hover-bg-color: #E2EBFA;\n",
              "      --hover-fill-color: #174EA6;\n",
              "      --disabled-fill-color: #AAA;\n",
              "      --disabled-bg-color: #DDD;\n",
              "  }\n",
              "\n",
              "  [theme=dark] .colab-df-quickchart {\n",
              "      --bg-color: #3B4455;\n",
              "      --fill-color: #D2E3FC;\n",
              "      --hover-bg-color: #434B5C;\n",
              "      --hover-fill-color: #FFFFFF;\n",
              "      --disabled-bg-color: #3B4455;\n",
              "      --disabled-fill-color: #666;\n",
              "  }\n",
              "\n",
              "  .colab-df-quickchart {\n",
              "    background-color: var(--bg-color);\n",
              "    border: none;\n",
              "    border-radius: 50%;\n",
              "    cursor: pointer;\n",
              "    display: none;\n",
              "    fill: var(--fill-color);\n",
              "    height: 32px;\n",
              "    padding: 0;\n",
              "    width: 32px;\n",
              "  }\n",
              "\n",
              "  .colab-df-quickchart:hover {\n",
              "    background-color: var(--hover-bg-color);\n",
              "    box-shadow: 0 1px 2px rgba(60, 64, 67, 0.3), 0 1px 3px 1px rgba(60, 64, 67, 0.15);\n",
              "    fill: var(--button-hover-fill-color);\n",
              "  }\n",
              "\n",
              "  .colab-df-quickchart-complete:disabled,\n",
              "  .colab-df-quickchart-complete:disabled:hover {\n",
              "    background-color: var(--disabled-bg-color);\n",
              "    fill: var(--disabled-fill-color);\n",
              "    box-shadow: none;\n",
              "  }\n",
              "\n",
              "  .colab-df-spinner {\n",
              "    border: 2px solid var(--fill-color);\n",
              "    border-color: transparent;\n",
              "    border-bottom-color: var(--fill-color);\n",
              "    animation:\n",
              "      spin 1s steps(1) infinite;\n",
              "  }\n",
              "\n",
              "  @keyframes spin {\n",
              "    0% {\n",
              "      border-color: transparent;\n",
              "      border-bottom-color: var(--fill-color);\n",
              "      border-left-color: var(--fill-color);\n",
              "    }\n",
              "    20% {\n",
              "      border-color: transparent;\n",
              "      border-left-color: var(--fill-color);\n",
              "      border-top-color: var(--fill-color);\n",
              "    }\n",
              "    30% {\n",
              "      border-color: transparent;\n",
              "      border-left-color: var(--fill-color);\n",
              "      border-top-color: var(--fill-color);\n",
              "      border-right-color: var(--fill-color);\n",
              "    }\n",
              "    40% {\n",
              "      border-color: transparent;\n",
              "      border-right-color: var(--fill-color);\n",
              "      border-top-color: var(--fill-color);\n",
              "    }\n",
              "    60% {\n",
              "      border-color: transparent;\n",
              "      border-right-color: var(--fill-color);\n",
              "    }\n",
              "    80% {\n",
              "      border-color: transparent;\n",
              "      border-right-color: var(--fill-color);\n",
              "      border-bottom-color: var(--fill-color);\n",
              "    }\n",
              "    90% {\n",
              "      border-color: transparent;\n",
              "      border-bottom-color: var(--fill-color);\n",
              "    }\n",
              "  }\n",
              "</style>\n",
              "\n",
              "  <script>\n",
              "    async function quickchart(key) {\n",
              "      const quickchartButtonEl =\n",
              "        document.querySelector('#' + key + ' button');\n",
              "      quickchartButtonEl.disabled = true;  // To prevent multiple clicks.\n",
              "      quickchartButtonEl.classList.add('colab-df-spinner');\n",
              "      try {\n",
              "        const charts = await google.colab.kernel.invokeFunction(\n",
              "            'suggestCharts', [key], {});\n",
              "      } catch (error) {\n",
              "        console.error('Error during call to suggestCharts:', error);\n",
              "      }\n",
              "      quickchartButtonEl.classList.remove('colab-df-spinner');\n",
              "      quickchartButtonEl.classList.add('colab-df-quickchart-complete');\n",
              "    }\n",
              "    (() => {\n",
              "      let quickchartButtonEl =\n",
              "        document.querySelector('#df-399d2572-1208-47de-a9ba-2292980779ab button');\n",
              "      quickchartButtonEl.style.display =\n",
              "        google.colab.kernel.accessAllowed ? 'block' : 'none';\n",
              "    })();\n",
              "  </script>\n",
              "</div>\n",
              "\n",
              "    </div>\n",
              "  </div>\n"
            ],
            "application/vnd.google.colaboratory.intrinsic+json": {
              "type": "dataframe",
              "variable_name": "df_balanced",
              "summary": "{\n  \"name\": \"df_balanced\",\n  \"rows\": 34680,\n  \"fields\": [\n    {\n      \"column\": \"label\",\n      \"properties\": {\n        \"dtype\": \"category\",\n        \"num_unique_values\": 4,\n        \"samples\": [\n          \"Books\",\n          \"Clothing & Accessories\",\n          \"Household\"\n        ],\n        \"semantic_type\": \"\",\n        \"description\": \"\"\n      }\n    },\n    {\n      \"column\": \"Text\",\n      \"properties\": {\n        \"dtype\": \"string\",\n        \"num_unique_values\": 22317,\n        \"samples\": [\n          \"Jompers Men's Cotton Kurta and Pyjama Set JOMPERS as a brand brings you quality. Look your ethnic best wearing this Apparel. This regular-fit kurta pyjama set comprises a full-sleeved kurta and pyjama to give you classy look with a comfortable feel. Constructed from rich quality fabric, this suit set is soft to the skin and will keep you at ease all day long. It is recommended that you kindly check your required size with the measurements provided so that you can order the perfect size required. This Kurta Pyjama is made under KC provide who are famous for manufacturing high-end apparels since 2004.\",\n          \"The Loney: Horror Review An amazing piece of fictionHere is the masterpiece by which Hurley must enter the Guild of the Gothic: it pleases me to think of his name written on some parchment scroll, alongside those of Walpole, Du Maurier, Maturin and JacksonA masterful excursion into terrorAn extraordinarily haunted and haunting novelThis is a novel of the unsaid, the implied, the barely grasped or understood, crammed with dark holes and blurry spaces that your imagination feels compelled to fillWritten with the skill of a poetAn eerie, disturbing read that doesn't let up until its surprise endingAn unforgettable addition to the ranks of the best British horrorA haunting and ambiguous novel that will keep you up at nightA tale of suspense that sucks you in and pulls you under. As yarns go, it rips  Book Description WINNER OF THE 2015 COSTA FIRST NOVEL AWARD THE BRITISH BOOK AWARDS BOOK OF THE YEAR 2016 'The Loney is not just good, it's great. It's an amazing piece of fiction' Stephen King              See all Product description\",\n          \"KINGDIAN 240GB Portable External Read 340MB/s Write to 320MB/s SSD Basic Product Information\\u2022 Brand KingDian \\u2022 Capacity 120GB \\u2022 Interface Typec To USB 3.0\\u2022 Item Dimensions 66 x 36 x 9 mm\\u2022 Compatibility Windows Vista, Windows 7, Windows 8, Windows 8.1, Windows 10 and Mac OS 10.4Performance\\u2022 Sequential 240GB 340/330 MB/s\\u2022 IOPS Random Read/Write IOPSMax 240GB 94175/W82361\\u2022 Copy 5GB Data Time 240GB Needs50 Seconds,\\u2022 USB3.0 Drive Copy 5GB data time 780 seconds, Its More Faster Than the USB3.0 USB Flash Drive.\\u2022 Average Access Time 0.15ms\"\n        ],\n        \"semantic_type\": \"\",\n        \"description\": \"\"\n      }\n    },\n    {\n      \"column\": \"label_num\",\n      \"properties\": {\n        \"dtype\": \"number\",\n        \"std\": 1,\n        \"min\": 0,\n        \"max\": 3,\n        \"num_unique_values\": 4,\n        \"samples\": [\n          1,\n          3,\n          0\n        ],\n        \"semantic_type\": \"\",\n        \"description\": \"\"\n      }\n    }\n  ]\n}"
            }
          },
          "metadata": {},
          "execution_count": 36
        }
      ]
    },
    {
      "cell_type": "markdown",
      "source": [
        "#preprocessing of the text\n"
      ],
      "metadata": {
        "id": "mqDTdUJR9Jkl"
      }
    },
    {
      "cell_type": "code",
      "source": [
        "import spacy\n",
        "\n",
        "# load english language model and create nlp object from it\n",
        "nlp = spacy.load(\"en_core_web_sm\")\n",
        "\n",
        "def preprocess(text):\n",
        "    # remove stop words and lemmatize the text\n",
        "    doc = nlp(text)\n",
        "    filtered_tokens = []\n",
        "    for token in doc:\n",
        "        if token.is_stop or token.is_punct:\n",
        "            continue\n",
        "        filtered_tokens.append(token.lemma_)\n",
        "\n",
        "    return \" \".join(filtered_tokens)"
      ],
      "metadata": {
        "id": "E9mcYg6TPaVl"
      },
      "execution_count": 38,
      "outputs": []
    },
    {
      "cell_type": "code",
      "source": [
        "df_balanced['preprocess_text']= df_balanced['Text'].apply(preprocess)"
      ],
      "metadata": {
        "id": "RY-BQtd3O8SI"
      },
      "execution_count": 39,
      "outputs": []
    },
    {
      "cell_type": "markdown",
      "source": [
        "#train test split"
      ],
      "metadata": {
        "id": "S6ZSoOxOURsu"
      }
    },
    {
      "cell_type": "code",
      "source": [
        "from sklearn.model_selection import train_test_split\n",
        "X_train, X_test, y_train, y_test = train_test_split(\n",
        "    df_balanced.preprocess_text,\n",
        "    df_balanced.label_num,\n",
        "    test_size=0.2, # 20% samples will go to test dataset\n",
        "    random_state=2022,\n",
        "    stratify=df_balanced.label_num\n",
        ")"
      ],
      "metadata": {
        "id": "xt-w3Fow_p4u"
      },
      "execution_count": 40,
      "outputs": []
    },
    {
      "cell_type": "markdown",
      "source": [
        "#model building\n"
      ],
      "metadata": {
        "id": "UG3LBmAVBOxf"
      }
    },
    {
      "cell_type": "code",
      "source": [
        "print(\"Shape of X_train: \", X_train.shape)\n",
        "print(\"Shape of X_test: \", X_test.shape)\n",
        ""
      ],
      "metadata": {
        "colab": {
          "base_uri": "https://localhost:8080/"
        },
        "id": "rnHpPSjJBOO1",
        "outputId": "16188653-f543-4b3a-9831-83f146c54a36"
      },
      "execution_count": 41,
      "outputs": [
        {
          "output_type": "stream",
          "name": "stdout",
          "text": [
            "Shape of X_train:  (27744,)\n",
            "Shape of X_test:  (6936,)\n"
          ]
        }
      ]
    },
    {
      "cell_type": "code",
      "source": [
        "X_train.isna().sum()"
      ],
      "metadata": {
        "colab": {
          "base_uri": "https://localhost:8080/"
        },
        "id": "qMMMMnhANSPj",
        "outputId": "5a47d525-ee54-4bec-8330-5beadbf4117c"
      },
      "execution_count": 42,
      "outputs": [
        {
          "output_type": "execute_result",
          "data": {
            "text/plain": [
              "np.int64(0)"
            ]
          },
          "metadata": {},
          "execution_count": 42
        }
      ]
    },
    {
      "cell_type": "markdown",
      "source": [
        "#multinomial classification model"
      ],
      "metadata": {
        "id": "SliJDjXvUWhV"
      }
    },
    {
      "cell_type": "code",
      "source": [
        "from sklearn.feature_extraction.text import TfidfVectorizer\n",
        "from sklearn.naive_bayes import MultinomialNB\n",
        "from sklearn.pipeline import Pipeline\n",
        "from sklearn.metrics import classification_report"
      ],
      "metadata": {
        "id": "WEIYs5ZhFNRN"
      },
      "execution_count": 43,
      "outputs": []
    },
    {
      "cell_type": "code",
      "source": [
        "clf =Pipeline([\n",
        "    ('vectorizer_tfidf',TfidfVectorizer()),\n",
        "    ('mn',MultinomialNB())\n",
        "])\n",
        "clf.fit(X_train,y_train)\n",
        "y_pred = clf.predict(X_test)\n",
        "print(classification_report(y_test,y_pred))"
      ],
      "metadata": {
        "colab": {
          "base_uri": "https://localhost:8080/"
        },
        "id": "yNLNIUYZFUpK",
        "outputId": "a847ab14-20f8-4e9e-85b5-ae1d8e61b027"
      },
      "execution_count": 44,
      "outputs": [
        {
          "output_type": "stream",
          "name": "stdout",
          "text": [
            "              precision    recall  f1-score   support\n",
            "\n",
            "           0       0.91      0.96      0.93      1734\n",
            "           1       0.98      0.93      0.95      1734\n",
            "           2       0.95      0.94      0.94      1734\n",
            "           3       0.97      0.99      0.98      1734\n",
            "\n",
            "    accuracy                           0.95      6936\n",
            "   macro avg       0.95      0.95      0.95      6936\n",
            "weighted avg       0.95      0.95      0.95      6936\n",
            "\n"
          ]
        }
      ]
    },
    {
      "cell_type": "markdown",
      "source": [
        "#knn model"
      ],
      "metadata": {
        "id": "XImKuvYRUcO7"
      }
    },
    {
      "cell_type": "code",
      "source": [
        "from sklearn.neighbors import KNeighborsClassifier\n",
        "#1. create a pipeline object\n",
        "clf = Pipeline([\n",
        "     ('vectorizer_tfidf',TfidfVectorizer()),\n",
        "     ('KNN', KNeighborsClassifier())\n",
        "])\n",
        "\n",
        "#2. fit with X_train and y_train\n",
        "clf.fit(X_train, y_train)\n",
        "\n",
        "\n",
        "#3. get the predictions for X_test and store it in y_pred\n",
        "y_pred = clf.predict(X_test)\n",
        "\n",
        "\n",
        "#4. print the classfication report\n",
        "print(classification_report(y_test, y_pred))"
      ],
      "metadata": {
        "colab": {
          "base_uri": "https://localhost:8080/"
        },
        "id": "PgKdE-uCGId0",
        "outputId": "cc17ddce-3bcf-47c1-cafe-29bbc9ebdc9d"
      },
      "execution_count": 45,
      "outputs": [
        {
          "output_type": "stream",
          "name": "stdout",
          "text": [
            "              precision    recall  f1-score   support\n",
            "\n",
            "           0       0.93      0.96      0.95      1734\n",
            "           1       0.95      0.96      0.96      1734\n",
            "           2       0.97      0.93      0.95      1734\n",
            "           3       0.98      0.98      0.98      1734\n",
            "\n",
            "    accuracy                           0.96      6936\n",
            "   macro avg       0.96      0.96      0.96      6936\n",
            "weighted avg       0.96      0.96      0.96      6936\n",
            "\n"
          ]
        }
      ]
    },
    {
      "cell_type": "markdown",
      "source": [
        "#random forest model"
      ],
      "metadata": {
        "id": "cL7-5gg5Ue0L"
      }
    },
    {
      "cell_type": "code",
      "source": [
        "from sklearn.ensemble import RandomForestClassifier\n",
        "\n",
        "#1. create a pipeline object\n",
        "clf = Pipeline([\n",
        "     ('vectorizer_tfidf',TfidfVectorizer()),        #using the ngram_range parameter\n",
        "     ('Random Forest', RandomForestClassifier())\n",
        "])\n",
        "\n",
        "#2. fit with X_train and y_train\n",
        "clf.fit(X_train, y_train)\n",
        "\n",
        "\n",
        "#3. get the predictions for X_test and store it in y_pred\n",
        "y_pred = clf.predict(X_test)\n",
        "\n",
        "\n",
        "#4. print the classfication report\n",
        "print(classification_report(y_test, y_pred))"
      ],
      "metadata": {
        "colab": {
          "base_uri": "https://localhost:8080/"
        },
        "id": "AZpUCyzAGTME",
        "outputId": "67a0c879-ece4-4945-852a-7caf9955bb51"
      },
      "execution_count": 46,
      "outputs": [
        {
          "output_type": "stream",
          "name": "stdout",
          "text": [
            "              precision    recall  f1-score   support\n",
            "\n",
            "           0       0.94      0.95      0.95      1734\n",
            "           1       0.98      0.97      0.97      1734\n",
            "           2       0.97      0.95      0.96      1734\n",
            "           3       0.97      0.99      0.98      1734\n",
            "\n",
            "    accuracy                           0.96      6936\n",
            "   macro avg       0.96      0.96      0.96      6936\n",
            "weighted avg       0.96      0.96      0.96      6936\n",
            "\n"
          ]
        }
      ]
    },
    {
      "cell_type": "code",
      "source": [
        "from sklearn.metrics import confusion_matrix\n",
        "cm = confusion_matrix(y_test, y_pred)\n",
        "cm"
      ],
      "metadata": {
        "colab": {
          "base_uri": "https://localhost:8080/"
        },
        "id": "m1U3pumeUutS",
        "outputId": "4031d958-549e-4a54-80f2-69d6f0a56fea"
      },
      "execution_count": 48,
      "outputs": [
        {
          "output_type": "execute_result",
          "data": {
            "text/plain": [
              "array([[1643,   21,   42,   28],\n",
              "       [  21, 1687,   11,   15],\n",
              "       [  66,   13, 1648,    7],\n",
              "       [   9,    7,    5, 1713]])"
            ]
          },
          "metadata": {},
          "execution_count": 48
        }
      ]
    },
    {
      "cell_type": "code",
      "source": [
        "from matplotlib import pyplot as plt\n",
        "import seaborn as sn\n",
        "plt.figure(figsize = (10,7))\n",
        "sn.heatmap(cm, annot=True, fmt='d')\n",
        "plt.xlabel('Prediction')\n",
        "plt.ylabel('Truth')"
      ],
      "metadata": {
        "colab": {
          "base_uri": "https://localhost:8080/",
          "height": 636
        },
        "id": "C4mmvIyoUxUR",
        "outputId": "722e7955-9d76-4368-a0cd-f227e78a31ea"
      },
      "execution_count": 49,
      "outputs": [
        {
          "output_type": "execute_result",
          "data": {
            "text/plain": [
              "Text(95.72222222222221, 0.5, 'Truth')"
            ]
          },
          "metadata": {},
          "execution_count": 49
        },
        {
          "output_type": "display_data",
          "data": {
            "text/plain": [
              "<Figure size 1000x700 with 2 Axes>"
            ],
            "image/png": "[encoded data removed]"
          },
          "metadata": {}
        }
      ]
    }
  ]
}